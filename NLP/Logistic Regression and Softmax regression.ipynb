{
 "cells": [
  {
   "cell_type": "markdown",
   "metadata": {},
   "source": [
    "# Logitsic regression and Softmax regression for document classification\n",
    "\n",
    "\n",
    "Logistic regression 은 binary classification 에 널리 이용되는 방법입니다. 이에 대한 기하학적인 의미를 알아봅시다. 또한 클래스가 3개 이상일 경우의 일반화된 logistic resgression인 Softmax regression 으로 의미를 확장해 봅시다. Softmax regression 을 이해하면 Word2Vec 과 같은 word embedding, represetation learning 의 원리를 이해할 수 있습니다.  \n",
    "\n",
    "### Geometric interpretation of logistic regression\n",
    "\n",
    "Logistic regression은 머신러닝, 데이터마이닝 공부를 시작할 때 가장 먼저 만나는 classifier 입니다. Logistic은 (X,Y) 가 주어졌을 때, feature X 와 Y와의 관계를 학습합니다. 특히 y가 positive/negative와 같이 두 개의 클래스로 이뤄져 있을 때 이용하는 방법입니다.  Logistic regression 은 하나의 row 혹은 벡터 공간의 하나의 점 x가 주어졌을 때,클래스가 y일 확률을 학습한다고 이야기합니다.  \n",
    "exponential 의 범위는 (0,+∞) 이기 때문에 1/1+exp(−θTx)는 (0,1)의 범위를 지닙니다. 그래서 확률로 해석을 할 수 있습니다.  \n",
    "\n",
    "yθ(x) = 1/1+exp(−θTx) 위 식을 조금 더 자세하게 풀어보면 positive,negative 이기 때문에 모든 경우에 대하여 exp(−θTx) 의 값을 더하여, 이 값으로 각각의 exp(−θTx)를 나눠주면 확률 형식이 됩니다,  \n",
    "\n",
    "\n",
    "![1](datasets/img/20191004_225844.png)\n",
    "\n",
    "// 질문 여기서 각세타의 의미??\n",
    "같을지는 모르겠지만 : direction vector of separating hyperplane\n",
    "\n",
    "\n",
    "혹은 logistic regression 을 기하학적으로 해석하기도 합니다 Bias 를 포함한 logistic regression 의 단면 (hyperplane)은 빨간색과 파란색의 점들을 구분하는 결정 단면 (separating hyperplane) 입니다, 쉽게 말해 경계면을 학습하는 것입니다. 이 결정단면의 수식은  (θTx)입니다. 즉, 단면 위에 있는점은 postive, negative 클래스에 속할 확률이 각각 0.5라는 의미입니다. 어느 쪽에 속하는지 확신할 수 없으니까요.\n",
    "\n",
    "\n",
    " ![2](https://lovit.github.io/assets/figures/logistic_separate_plane.png)\n",
    " \n",
    " 그럼 위에서 pos,neg의 확률을 각각 계산하는 형식으로 logistic regression을 표현할 때도 기하학적으로 해석해 봅시다 , 각각의 세타는 일종의 클래스의 대표벡터가 됩니다. 세타1"
   ]
  },
  {
   "cell_type": "code",
   "execution_count": null,
   "metadata": {},
   "outputs": [],
   "source": []
  }
 ],
 "metadata": {
  "kernelspec": {
   "display_name": "Python 3",
   "language": "python",
   "name": "python3"
  },
  "language_info": {
   "codemirror_mode": {
    "name": "ipython",
    "version": 3
   },
   "file_extension": ".py",
   "mimetype": "text/x-python",
   "name": "python",
   "nbconvert_exporter": "python",
   "pygments_lexer": "ipython3",
   "version": "3.7.0"
  }
 },
 "nbformat": 4,
 "nbformat_minor": 2
}
