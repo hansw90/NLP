{
 "cells": [
  {
   "cell_type": "markdown",
   "metadata": {},
   "source": [
    "# 유사도 (Similarity)\n",
    "\n",
    "문서의 유사도를 구하기 위한 방법으로는 코사인 유사도 외에도 여러가지 방법들이 있습니다. \n",
    "\n",
    "### 1. 유클리드 거리(Euclidean distance)\n",
    "\n",
    "유클리드 거리는 문서의 유사도를 구할 때 자카드 유사도나 코사인 유사도 만큼, 유용한 방법은 아닙니다. 하지만 여러 가지 방법을 이해하고, 시도해 보는 것 자체만으로 다른 개념들을 이해할 때 도움이 되므로 의미가 있습니다.  \n",
    "\n",
    "다차원 공간에서 두개의 점 p와 q가 각각 p = (p1,p2,p3,...pn)과 q =(q1,q2,q3...,qn)의 좌표를 가질 때 두점 사이의 거리를 계산하는 유클리드 거리 공식은 다음과 같습니다.  \n",
    "\n",
    "![eculidean](datasets/img/20191013_100540.png)\n",
    "\n",
    "다차원 공간이라 가정하면, 처음 보는 입장에서는 식이 너무 복잡합니다. 좀더 쉽게 이해하기 위해 2차원 공간이라고 가정하여, 두점 사이의 거리를 좌표 평면 상에서 시각화 해보겠습니다.  \n",
    "\n",
    "![euclidean2](https://wikidocs.net/images/page/24654/2%EC%B0%A8%EC%9B%90_%ED%8F%89%EB%A9%B4.png)\n",
    "\n",
    "2차원 좌표 평면 상에서 두 점 p와 q사이의 직선 거리를 구하는 문제입니다. 위의 경우에는 직각 삼각형으로 표현이 가능하므로, 중학교 수학 과정인 피타고라스의 정리를 통해 p와 q사이의 거리를 계산할 수 있습니다. 즉, 2차원 좌표 평면에서 두 점 사이의 유클리드 거리 공식은 피타고라스의 정리 와 동일합니다.  \n",
    "\n",
    "즉, 문서에서 유사도를 구하고자 유클리드 거리 공식을 사용한다는 것은, 앞서 본 2차원을 단어의 총 개수 만큼의 차원으로 확장하는 것과 같습니다. 예를 들어 아래와 같은 DTM 이 있다고 합시다.  \n",
    "\n",
    "![euclidean3](datasets/img/20191013_101035.png)\n",
    "\n",
    "단어의 개수가 4개이므로, 이는 4차원 공간에 문서1, 문서2, 문서3을 배치하는 것과 같습니다. 이때 다음과 같은 문서Q에 대해서 문서1,문서2,문서3 중 가장 유사한 문서를 찾아 내고자 합니다. \n",
    "\n",
    "문서 Q = [1,1,0,1] \n",
    "\n",
    "이때 유클리드 거리를 통하여 유사도를 구하려고 한다면 문서Q 또한 다른 문서들 처럼 4차원 공간에 배치시켰다는 관점에서 4차원 공간에서의 각각의 문서들과의 유클리드 거리를 구하면 됩니다. 이를 파이썬 코드로 구현해보겠습니다.  "
   ]
  },
  {
   "cell_type": "code",
   "execution_count": 11,
   "metadata": {},
   "outputs": [
    {
     "name": "stdout",
     "output_type": "stream",
     "text": [
      "2.23606797749979\n",
      "3.1622776601683795\n",
      "2.449489742783178\n"
     ]
    }
   ],
   "source": [
    "import numpy as np\n",
    "def dist(x,y) :\n",
    "    return np.sqrt(np.sum((x-y)**2))\n",
    "doc1 = np.array((2,3,0,1))\n",
    "doc2 = np.array((1,2,3,1))\n",
    "doc3 = np.array((2,1,2,2))\n",
    "docQ = np.array((1,1,0,1))\n",
    "\n",
    "print(dist(doc1,docQ))\n",
    "print(dist(doc2,docQ))\n",
    "print(dist(doc3,docQ))"
   ]
  },
  {
   "cell_type": "markdown",
   "metadata": {},
   "source": [
    "유클리드 거리의 값이 가장 작다는 것은, 문서 간의 거리가 가장 가깝다는 것을 의미합니다. 즉 문서1이 문서Q와 가장 유사하다고 보는것 입니다.  "
   ]
  },
  {
   "attachments": {},
   "cell_type": "markdown",
   "metadata": {},
   "source": [
    "### 2. 자카드 유사도(Jaccard similarity)\n",
    "\n",
    "A와 B 두개의 집합이 있다고 하자, 이때 교집합은 두 개의 집합에서 공통으로 가지고 있는 원소들의 집합을 말한다. 즉, 합집합에서 교집합의 비율을 구한다면 두 집합 A와 B의 유사도를 구할 수 있다는 것이 자카드 유사도(jaccard similarity)의 아이디어이다.  자카드 유사도는 0과 1 사이의 값을 가지며, 만약 두 집합이 동일하다면 1의 값을 가지고, 두 집합의 공통 원소가 없다면 0의 값을 갖는다. 자카드 유사도를 구하는 함수를 J라고 할때, 자카드 유사도 함수  J는 다음과 같다. \n",
    "\n",
    "![jaccard1](datasets/img/jaccard1.png)\n",
    "\n",
    "그다음 두 개의 비교할 문서를 doc1, doc2 라고 할때 doc1과 doc2의 문서의 유사도를 구하기 위한 자카드 유사도는 아래와 같다\n",
    "\n",
    "![jaccard1](datasets/img/jaccard2.png)\n",
    "\n",
    "즉, 두 문서 doc1, doc2 사이의 자카드 유사도는 두 집합의 교집합의 크기를 두 집합의 합집합 크기로 나눈 값으로 정의된다. 간단한 예제를 통해 이해해 보자.  "
   ]
  },
  {
   "cell_type": "code",
   "execution_count": 12,
   "metadata": {},
   "outputs": [
    {
     "name": "stdout",
     "output_type": "stream",
     "text": [
      "['apple', 'banana', 'everyone', 'like', 'likey', 'watch', 'card', 'holder']\n",
      "['apple', 'banana', 'coupon', 'passport', 'love', 'you']\n"
     ]
    }
   ],
   "source": [
    "# 다음과 같은 두 개의 문서가 있습니다.\n",
    "# 두 문서 모두에서 등장한 단어는 apple과 banana 2개.\n",
    "doc1 = \"apple banana everyone like likey watch card holder\"\n",
    "doc2 = \"apple banana coupon passport love you\"\n",
    "\n",
    "# 토큰화를 수행합니다.\n",
    "tokenized_doc1 = doc1.split()\n",
    "tokenized_doc2 = doc2.split()\n",
    "\n",
    "# 토큰화 결과 출력\n",
    "print(tokenized_doc1)\n",
    "print(tokenized_doc2)"
   ]
  },
  {
   "cell_type": "code",
   "execution_count": 14,
   "metadata": {},
   "outputs": [
    {
     "name": "stdout",
     "output_type": "stream",
     "text": [
      "{'like', 'holder', 'banana', 'coupon', 'passport', 'everyone', 'card', 'you', 'apple', 'love', 'likey', 'watch'}\n",
      "12\n"
     ]
    }
   ],
   "source": [
    "# 문서1과 문서2의 합집합을 구해보자\n",
    "\n",
    "union = set(tokenized_doc1).union(set(tokenized_doc2))\n",
    "print(union)\n",
    "print(len(union))"
   ]
  },
  {
   "cell_type": "markdown",
   "metadata": {},
   "source": [
    "문서1과 문서2의 합집합 단어의 총 개수는 12개인 것을 확인하였습니다. 그렇다면 문서1과 문서2의 교집합을 구해보겠습니다. 즉 문서1과 문서2에서 둘 다 등장하는 단어를 구하게 됩니다."
   ]
  },
  {
   "cell_type": "code",
   "execution_count": 16,
   "metadata": {},
   "outputs": [
    {
     "name": "stdout",
     "output_type": "stream",
     "text": [
      "{'banana', 'apple'}\n",
      "2\n"
     ]
    }
   ],
   "source": [
    "intersection = set(tokenized_doc1).intersection(set(tokenized_doc2))\n",
    "print(intersection)\n",
    "print(len(intersection))"
   ]
  },
  {
   "cell_type": "markdown",
   "metadata": {},
   "source": [
    "문서1과 문서2에서 둘 다 등장하는 단어는 banana와 apple 총 2개 입니다.  \n",
    "이제 교집합의 수를 합집합의 수로 나누면 자카드 유사도가 계산됩니다."
   ]
  },
  {
   "cell_type": "code",
   "execution_count": 18,
   "metadata": {},
   "outputs": [
    {
     "name": "stdout",
     "output_type": "stream",
     "text": [
      "0.16666666666666666\n"
     ]
    }
   ],
   "source": [
    "print(len(intersection)/len(union)) # 2를 12로 나눈다."
   ]
  },
  {
   "cell_type": "markdown",
   "metadata": {},
   "source": [
    "위의 값은 자카드 유사도이자, 두 문서의 총 단어 집합에서 두 문서에서 공통적으로 등장한 단어의 비율이기도 합니다."
   ]
  },
  {
   "cell_type": "code",
   "execution_count": null,
   "metadata": {},
   "outputs": [],
   "source": []
  }
 ],
 "metadata": {
  "kernelspec": {
   "display_name": "Python 3",
   "language": "python",
   "name": "python3"
  },
  "language_info": {
   "codemirror_mode": {
    "name": "ipython",
    "version": 3
   },
   "file_extension": ".py",
   "mimetype": "text/x-python",
   "name": "python",
   "nbconvert_exporter": "python",
   "pygments_lexer": "ipython3",
   "version": "3.7.4"
  }
 },
 "nbformat": 4,
 "nbformat_minor": 2
}
