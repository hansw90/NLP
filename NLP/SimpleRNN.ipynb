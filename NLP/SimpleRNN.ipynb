{
 "cells": [
  {
   "cell_type": "markdown",
   "metadata": {},
   "source": [
    "# Simple NN 구현"
   ]
  },
  {
   "cell_type": "code",
   "execution_count": 79,
   "metadata": {},
   "outputs": [],
   "source": [
    "import numpy as np "
   ]
  },
  {
   "cell_type": "code",
   "execution_count": 41,
   "metadata": {},
   "outputs": [],
   "source": [
    "applePie = np.array([1,0,0])\n",
    "bugger = np.array([0,1,0])\n",
    "chicken = np.array([0,0,1])"
   ]
  },
  {
   "cell_type": "code",
   "execution_count": 42,
   "metadata": {},
   "outputs": [],
   "source": [
    "sunnyDay = np.array([1,0])\n",
    "rainyDay = np.array([0,1])"
   ]
  },
  {
   "cell_type": "markdown",
   "metadata": {},
   "source": [
    "화창한 SunnyDay 일떄는 ApplePie 를 ,\n",
    "비가 오는날엔 Bugger를 먹는다."
   ]
  },
  {
   "cell_type": "code",
   "execution_count": 43,
   "metadata": {},
   "outputs": [],
   "source": [
    "matrix = np.array([[1,0],[0,1],[0,0]])"
   ]
  },
  {
   "cell_type": "code",
   "execution_count": 44,
   "metadata": {},
   "outputs": [
    {
     "data": {
      "text/plain": [
       "array([1, 0, 0])"
      ]
     },
     "execution_count": 44,
     "metadata": {},
     "output_type": "execute_result"
    }
   ],
   "source": [
    "np.dot(matrix,sunnyDay.T)\n",
    "# SunnyDay 니깐 ApplePie를 먹는다."
   ]
  },
  {
   "cell_type": "markdown",
   "metadata": {},
   "source": [
    "# simple RNN 구현하기"
   ]
  },
  {
   "cell_type": "code",
   "execution_count": 124,
   "metadata": {},
   "outputs": [],
   "source": [
    "food_matrix = np.array([[[1,0,0],[0,1,0],[0,0,1]],[[0,0,1],[1,0,0],[0,1,0]]])\n",
    "weather_matrix = np.array([[[1,0],[1,0],[1,0]],[[0,1],[0,1],[0,1]]])"
   ]
  },
  {
   "cell_type": "code",
   "execution_count": 125,
   "metadata": {},
   "outputs": [],
   "source": [
    "def makeonehot(c) :\n",
    "    # [[0,1,0],[1,2,1]] 를 [[0,0,0],[0,1,0]] 과 같이 인코딩 하려면 어떻게 해야 할까..?\n",
    "    \n",
    "    for i in range(len(c)) :\n",
    "        if(c[i] !=2) :\n",
    "            c[i] = 0\n",
    "        else :\n",
    "            c[i] = 1\n",
    "    return c\n",
    "\n",
    "\n"
   ]
  },
  {
   "cell_type": "code",
   "execution_count": 126,
   "metadata": {},
   "outputs": [],
   "source": [
    "h_t = applePie\n",
    "x_t = rainyDay\n",
    "\n",
    "foodV = np.dot(food_matrix,h_t)\n",
    "weatherV = np.dot(weather_matrix,x_t)\n",
    "food_weather = np.concatenate((foodV+weatherV))\n",
    "oneHot_food2weather = makeonehot(food_weather).reshape(2,3)"
   ]
  },
  {
   "cell_type": "code",
   "execution_count": 127,
   "metadata": {},
   "outputs": [],
   "source": [
    "h_t = oneHot_food2weather[0]+oneHot_food2weather[1]"
   ]
  },
  {
   "cell_type": "code",
   "execution_count": 128,
   "metadata": {},
   "outputs": [
    {
     "data": {
      "text/plain": [
       "array([0, 1, 0])"
      ]
     },
     "execution_count": 128,
     "metadata": {},
     "output_type": "execute_result"
    }
   ],
   "source": [
    "h_t"
   ]
  },
  {
   "cell_type": "code",
   "execution_count": 135,
   "metadata": {},
   "outputs": [
    {
     "name": "stdout",
     "output_type": "stream",
     "text": [
      "[[1 0 0]\n",
      " [0 1 0]\n",
      " [0 1 0]\n",
      " [0 1 0]\n",
      " [0 0 1]\n",
      " [0 0 1]\n",
      " [1 0 0]]\n"
     ]
    }
   ],
   "source": [
    "x_t = np.array([[0,1],[1,0],[1,0],[0,1],[1,0],[0,1]]) # 흐림, 맑음, 맑음, 흐림, 맑음, 흐림\n",
    "h_t = np.array([[1,0,0]])\n",
    "\n",
    "def simpleRNN (x_t,h_t) :\n",
    "    ht = h_t\n",
    "    for i in range(len(x_t)) :\n",
    "        foodV = np.dot(food_matrix,ht[i])\n",
    "        weatherV = np.dot(weather_matrix,x_t[i])\n",
    "        food_weather = np.concatenate((foodV+weatherV))\n",
    "        oneHot_food2weather = makeonehot(food_weather).reshape(2,3)\n",
    "        hap = oneHot_food2weather[0]+oneHot_food2weather[1]\n",
    "        ht = np.append(ht,[hap], axis=0)\n",
    "        \n",
    "    return ht\n",
    "\n",
    "print(simpleRNN(x_t,h_t))"
   ]
  },
  {
   "cell_type": "code",
   "execution_count": null,
   "metadata": {},
   "outputs": [],
   "source": []
  }
 ],
 "metadata": {
  "kernelspec": {
   "display_name": "Python 3",
   "language": "python",
   "name": "python3"
  },
  "language_info": {
   "codemirror_mode": {
    "name": "ipython",
    "version": 3
   },
   "file_extension": ".py",
   "mimetype": "text/x-python",
   "name": "python",
   "nbconvert_exporter": "python",
   "pygments_lexer": "ipython3",
   "version": "3.7.3"
  }
 },
 "nbformat": 4,
 "nbformat_minor": 2
}
