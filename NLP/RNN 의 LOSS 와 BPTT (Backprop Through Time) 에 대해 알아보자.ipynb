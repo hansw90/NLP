{
 "cells": [
  {
   "cell_type": "markdown",
   "metadata": {},
   "source": [
    "# RNN 의 LOSS 와 BPTT (Backprop Through Time) 에 대해 알아보자"
   ]
  },
  {
   "cell_type": "markdown",
   "metadata": {},
   "source": [
    "자료 출처 : https://www.youtube.com/watch?v=Xeb6OjnVn8g\n",
    "\n",
    "![](img/20200327_132814.png)"
   ]
  },
  {
   "cell_type": "markdown",
   "metadata": {},
   "source": [
    "다음 변수들의 dimention에 주목하자, \n",
    "s 는 x와 U의 조합으로 만들어지니, dimention 이 d 인것을 알 수 있다.. "
   ]
  },
  {
   "cell_type": "markdown",
   "metadata": {},
   "source": [
    "그러면 본격적으로 위의 network를 어떻게 훈련할지 생각해보자. \n",
    "이 문제에서도 backpropagation 을 사용하는것은 기존 신경망 들과 같다.   \n",
    "하지만 기존 feedfoward network 와는 다르게 RNN 은 sequece 순서대로 과정이 진행된다."
   ]
  },
  {
   "cell_type": "markdown",
   "metadata": {},
   "source": [
    "예를 들어보자 \n",
    "![](img/20200327_134248.png)\n",
    "\n",
    "- 우리가 다음 단어를 자동완성시켜주는 무언가를 만든다 생각해보자\n",
    "- 우리는 단순히 4개의 단어 (d, e, p, <stop>) 를 인풋으로 가지는 예측기를 만들것 이다.\n",
    "- 각각 타입스탭마다 위 4가지 단어중 하나를 예측하게 될것이다.\n",
    "- 이 과제에서 output function으로 적합한 함수는 무엇일까?\n",
    "    - softmax function\n",
    "- 또 이과제에서 loss function으로 적합한 함수는 무엇일까?\n",
    "    - cross entropy"
   ]
  },
  {
   "cell_type": "markdown",
   "metadata": {},
   "source": [
    "U,V,W 를 랜덤하게 초기화 하였고, 네트워크의 확률이 아래와 같이 나왔다고 가정해 보자,\n",
    "\n",
    "![](img/20200327_134814.png)\n",
    "\n",
    "위의 경우를 봤을떄 우리는 몇가지 궁금한 점 이 생길 것 이다.\n",
    "\n",
    "모델에 의한 total loss은 얼마나 될것이며,  \n",
    "어떻게 이 loss와 parameter들(U,V,W)을  backpropagate 할 것인지 의문이 생길 것 입니다.  "
   ]
  },
  {
   "cell_type": "markdown",
   "metadata": {},
   "source": [
    "![](img/20200327_151353.png)"
   ]
  },
  {
   "cell_type": "markdown",
   "metadata": {},
   "source": [
    "![](img/20200327_152440.png)"
   ]
  },
  {
   "cell_type": "markdown",
   "metadata": {},
   "source": [
    "![](img/20200327_153242.png)\n",
    "\n",
    "matrix W는 체인룰에 의해 계산된다. \n",
    "\n",
    "![](img/20200327_153402.png)"
   ]
  },
  {
   "cell_type": "markdown",
   "metadata": {},
   "source": [
    "![](img/20200327_153645.png)"
   ]
  },
  {
   "cell_type": "markdown",
   "metadata": {},
   "source": [
    "![](img/20200327_154242.png)"
   ]
  },
  {
   "cell_type": "markdown",
   "metadata": {},
   "source": [
    "![](img/20200327_154719.png)\n",
    "\n",
    "![](img/20200327_155136.png)"
   ]
  },
  {
   "cell_type": "code",
   "execution_count": null,
   "metadata": {},
   "outputs": [],
   "source": []
  }
 ],
 "metadata": {
  "kernelspec": {
   "display_name": "Python 3",
   "language": "python",
   "name": "python3"
  },
  "language_info": {
   "codemirror_mode": {
    "name": "ipython",
    "version": 3
   },
   "file_extension": ".py",
   "mimetype": "text/x-python",
   "name": "python",
   "nbconvert_exporter": "python",
   "pygments_lexer": "ipython3",
   "version": "3.7.4"
  }
 },
 "nbformat": 4,
 "nbformat_minor": 2
}
