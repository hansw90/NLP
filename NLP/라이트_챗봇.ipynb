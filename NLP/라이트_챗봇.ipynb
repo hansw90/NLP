{
  "nbformat": 4,
  "nbformat_minor": 0,
  "metadata": {
    "colab": {
      "name": "라이트 챗봇",
      "provenance": []
    },
    "kernelspec": {
      "name": "python3",
      "display_name": "Python 3"
    }
  },
  "cells": [
    {
      "cell_type": "code",
      "metadata": {
        "id": "ejsFXuebcT1R",
        "colab_type": "code",
        "colab": {
          "base_uri": "https://localhost:8080/",
          "height": 73
        },
        "outputId": "e93cbc20-8e47-4850-ade8-45d0cc96d440"
      },
      "source": [
        "import nltk\n",
        "from nltk.stem.lancaster import LancasterStemmer\n",
        "stemmer = LancasterStemmer()\n",
        "\n",
        "import numpy as np\n",
        "import tflearn\n",
        "import tensorflow as tf\n",
        "import random\n",
        "import json\n",
        "\n",
        "nltk.download('punkt')"
      ],
      "execution_count": 62,
      "outputs": [
        {
          "output_type": "stream",
          "text": [
            "[nltk_data] Downloading package punkt to /root/nltk_data...\n",
            "[nltk_data]   Package punkt is already up-to-date!\n"
          ],
          "name": "stdout"
        },
        {
          "output_type": "execute_result",
          "data": {
            "text/plain": [
              "True"
            ]
          },
          "metadata": {
            "tags": []
          },
          "execution_count": 62
        }
      ]
    },
    {
      "cell_type": "code",
      "metadata": {
        "id": "s1g5f77udrrN",
        "colab_type": "code",
        "colab": {
          "base_uri": "https://localhost:8080/",
          "height": 56
        },
        "outputId": "fd62092e-625a-4cb9-d439-73feff6d9588"
      },
      "source": [
        "from google.colab import drive\n",
        "drive.mount('/content/drive')"
      ],
      "execution_count": 43,
      "outputs": [
        {
          "output_type": "stream",
          "text": [
            "Drive already mounted at /content/drive; to attempt to forcibly remount, call drive.mount(\"/content/drive\", force_remount=True).\n"
          ],
          "name": "stdout"
        }
      ]
    },
    {
      "cell_type": "code",
      "metadata": {
        "id": "U3us1wq9cUde",
        "colab_type": "code",
        "colab": {
          "base_uri": "https://localhost:8080/",
          "height": 215
        },
        "outputId": "fa64f5ec-a7b8-433a-ee89-84250c9f5c58"
      },
      "source": [
        "import os\n",
        "os.chdir('drive/My Drive/Colab Notebooks/data')"
      ],
      "execution_count": 44,
      "outputs": [
        {
          "output_type": "error",
          "ename": "FileNotFoundError",
          "evalue": "ignored",
          "traceback": [
            "\u001b[0;31m---------------------------------------------------------------------------\u001b[0m",
            "\u001b[0;31mFileNotFoundError\u001b[0m                         Traceback (most recent call last)",
            "\u001b[0;32m<ipython-input-44-0d592e515fe1>\u001b[0m in \u001b[0;36m<module>\u001b[0;34m()\u001b[0m\n\u001b[1;32m      1\u001b[0m \u001b[0;32mimport\u001b[0m \u001b[0mos\u001b[0m\u001b[0;34m\u001b[0m\u001b[0;34m\u001b[0m\u001b[0m\n\u001b[0;32m----> 2\u001b[0;31m \u001b[0mos\u001b[0m\u001b[0;34m.\u001b[0m\u001b[0mchdir\u001b[0m\u001b[0;34m(\u001b[0m\u001b[0;34m'drive/My Drive/Colab Notebooks/data'\u001b[0m\u001b[0;34m)\u001b[0m\u001b[0;34m\u001b[0m\u001b[0;34m\u001b[0m\u001b[0m\n\u001b[0m",
            "\u001b[0;31mFileNotFoundError\u001b[0m: [Errno 2] No such file or directory: 'drive/My Drive/Colab Notebooks/data'"
          ]
        }
      ]
    },
    {
      "cell_type": "code",
      "metadata": {
        "id": "i9r0fLgNdN2y",
        "colab_type": "code",
        "colab": {}
      },
      "source": [
        "ls"
      ],
      "execution_count": 0,
      "outputs": []
    },
    {
      "cell_type": "code",
      "metadata": {
        "id": "h8iwpwBydOZI",
        "colab_type": "code",
        "colab": {}
      },
      "source": [
        "with open('intents.json') as file :\n",
        "  data = json.load(file)\n",
        "\n",
        "print(data['intents'])"
      ],
      "execution_count": 0,
      "outputs": []
    },
    {
      "cell_type": "code",
      "metadata": {
        "id": "rd8V2vDMePe3",
        "colab_type": "code",
        "colab": {}
      },
      "source": [
        "words = []\n",
        "labels = []\n",
        "docs_x = []\n",
        "docs_y = []\n",
        "\n",
        "for intent in data['intents'] :\n",
        "  for pattern in intent[\"patterns\"] :\n",
        "    wrds = nltk.word_tokenize(pattern)\n",
        "    words.extend(wrds)\n",
        "\n",
        "    docs_x.append(wrds)\n",
        "    docs_y.append(intent['tag'])\n",
        "\n",
        "  if intent[\"tag\"] not in labels :\n",
        "    labels.append(intent['tag'])\n"
      ],
      "execution_count": 0,
      "outputs": []
    },
    {
      "cell_type": "code",
      "metadata": {
        "id": "8ifFpnZCoT7N",
        "colab_type": "code",
        "colab": {}
      },
      "source": [
        "words = [stemmer.stem(w.lower()) for w in words if w not in \"?\"]\n",
        "words = sorted(list(set(words)))"
      ],
      "execution_count": 0,
      "outputs": []
    },
    {
      "cell_type": "code",
      "metadata": {
        "id": "b20G6J38onHi",
        "colab_type": "code",
        "colab": {}
      },
      "source": [
        "labels = sorted(labels)"
      ],
      "execution_count": 0,
      "outputs": []
    },
    {
      "cell_type": "code",
      "metadata": {
        "id": "9KKFJLpge26R",
        "colab_type": "code",
        "colab": {}
      },
      "source": [
        "training = []\n",
        "output = []\n",
        "\n",
        "out_empty = [0 for _ in range(len(labels))]\n",
        "\n",
        "for x, doc in enumerate(docs_x) :\n",
        "  bag = []\n",
        "\n",
        "  wrds = [stemmer.stem(w) for w in doc]\n",
        "\n",
        "  for w in words :\n",
        "    if w in wrds :\n",
        "      bag.append(1)\n",
        "    else :\n",
        "      bag.append(0)\n",
        "  output_row = out_empty[:]\n",
        "  output_row[labels.index(docs_y[x])] =1\n",
        "\n",
        "  training.append(bag)\n",
        "  output.append(output_row)\n",
        "\n",
        "training = numpy.array(training)\n",
        "output = np.array(output)\n",
        "\n",
        "\n",
        "\n",
        "with open(\"data.pickle\", \"wb\") as f :\n",
        "  pickle.dump((words, labels, training, output),f)"
      ],
      "execution_count": 0,
      "outputs": []
    },
    {
      "cell_type": "code",
      "metadata": {
        "id": "DOlOaaJ9lFt-",
        "colab_type": "code",
        "colab": {
          "base_uri": "https://localhost:8080/",
          "height": 148
        },
        "outputId": "4c0896cd-0c39-495b-85c5-bfb9bd415468"
      },
      "source": [
        "training"
      ],
      "execution_count": 61,
      "outputs": [
        {
          "output_type": "execute_result",
          "data": {
            "text/plain": [
              "array([[0, 0, 0, ..., 0, 0, 0],\n",
              "       [0, 0, 0, ..., 0, 0, 1],\n",
              "       [0, 0, 0, ..., 0, 0, 0],\n",
              "       ...,\n",
              "       [0, 0, 0, ..., 1, 0, 1],\n",
              "       [0, 0, 0, ..., 0, 1, 0],\n",
              "       [0, 0, 0, ..., 0, 0, 0]])"
            ]
          },
          "metadata": {
            "tags": []
          },
          "execution_count": 61
        }
      ]
    },
    {
      "cell_type": "code",
      "metadata": {
        "id": "dowwcjodszE1",
        "colab_type": "code",
        "colab": {
          "base_uri": "https://localhost:8080/",
          "height": 149
        },
        "outputId": "dc91713c-97a2-415b-cb97-4b7e074bdeeb"
      },
      "source": [
        "tf.reset_default_graph()\n",
        "\n",
        "net = tflearn.input_data(shape=[None, len(training[0])])\n",
        "net = tflearn.fully_connected(net, 8)\n",
        "net = tflearn.fully_connected(net, 8)\n",
        "net = tflearn.fully_connected(net, len(output[0]), activation= 'softmax')\n",
        "net = tflearn.regression(net)\n",
        "\n",
        "model = tflearn.DNN(net)\n",
        "\n",
        "try : \n",
        "  model.load(\"model.tflearn\")\n",
        "except :\n",
        "  model.fit(training, output, n_epoch=1000, batch_size = 8, show_metric=True)\n",
        "  model.save('model.tflearn')\n"
      ],
      "execution_count": 64,
      "outputs": [
        {
          "output_type": "stream",
          "text": [
            "Training Step: 3999  | total loss: \u001b[1m\u001b[32m0.05701\u001b[0m\u001b[0m | time: 0.010s\n",
            "| Adam | epoch: 1000 | loss: 0.05701 - acc: 1.0000 -- iter: 24/26\n",
            "Training Step: 4000  | total loss: \u001b[1m\u001b[32m0.05623\u001b[0m\u001b[0m | time: 0.014s\n",
            "| Adam | epoch: 1000 | loss: 0.05623 - acc: 1.0000 -- iter: 26/26\n",
            "--\n",
            "INFO:tensorflow:/content/drive/My Drive/Colab Notebooks/data/model.tflearn is not in all_model_checkpoint_paths. Manually adding it.\n"
          ],
          "name": "stdout"
        }
      ]
    },
    {
      "cell_type": "code",
      "metadata": {
        "id": "Ie3NK3azs2e_",
        "colab_type": "code",
        "colab": {
          "base_uri": "https://localhost:8080/",
          "height": 232
        },
        "outputId": "dafe76df-dc0a-43d1-e1d9-5f08d6a03273"
      },
      "source": [
        "import pickle\n",
        "with open(\"data.pickle\",\"rb\") as f :\n",
        "  words, labels, training, ouput = pickle.load(f)\n"
      ],
      "execution_count": 66,
      "outputs": [
        {
          "output_type": "error",
          "ename": "FileNotFoundError",
          "evalue": "ignored",
          "traceback": [
            "\u001b[0;31m---------------------------------------------------------------------------\u001b[0m",
            "\u001b[0;31mFileNotFoundError\u001b[0m                         Traceback (most recent call last)",
            "\u001b[0;32m<ipython-input-66-73f8346560af>\u001b[0m in \u001b[0;36m<module>\u001b[0;34m()\u001b[0m\n\u001b[1;32m      1\u001b[0m \u001b[0;32mimport\u001b[0m \u001b[0mpickle\u001b[0m\u001b[0;34m\u001b[0m\u001b[0;34m\u001b[0m\u001b[0m\n\u001b[0;32m----> 2\u001b[0;31m \u001b[0;32mwith\u001b[0m \u001b[0mopen\u001b[0m\u001b[0;34m(\u001b[0m\u001b[0;34m\"data.pickle\"\u001b[0m\u001b[0;34m,\u001b[0m\u001b[0;34m\"rb\"\u001b[0m\u001b[0;34m)\u001b[0m \u001b[0;32mas\u001b[0m \u001b[0mf\u001b[0m \u001b[0;34m:\u001b[0m\u001b[0;34m\u001b[0m\u001b[0;34m\u001b[0m\u001b[0m\n\u001b[0m\u001b[1;32m      3\u001b[0m   \u001b[0mwords\u001b[0m\u001b[0;34m,\u001b[0m \u001b[0mlabels\u001b[0m\u001b[0;34m,\u001b[0m \u001b[0mtraining\u001b[0m\u001b[0;34m,\u001b[0m \u001b[0mouput\u001b[0m \u001b[0;34m=\u001b[0m \u001b[0mpickle\u001b[0m\u001b[0;34m.\u001b[0m\u001b[0mload\u001b[0m\u001b[0;34m(\u001b[0m\u001b[0mf\u001b[0m\u001b[0;34m)\u001b[0m\u001b[0;34m\u001b[0m\u001b[0;34m\u001b[0m\u001b[0m\n\u001b[1;32m      4\u001b[0m \u001b[0;34m\u001b[0m\u001b[0m\n",
            "\u001b[0;31mFileNotFoundError\u001b[0m: [Errno 2] No such file or directory: 'data.pickle'"
          ]
        }
      ]
    },
    {
      "cell_type": "code",
      "metadata": {
        "id": "iynJlTyt8eM2",
        "colab_type": "code",
        "colab": {}
      },
      "source": [
        "def bag_of_words(s, words) :\n",
        "  bag = [0 for _ in range(len(words))]\n",
        "\n",
        "  s_words = nltk.word_tokenize(s)\n",
        "  s_words = [stemmer.stem(word.lower()) for word in s_words]\n",
        "\n",
        "  for se in s_words :\n",
        "    for i,w in enumerate(words) :\n",
        "      if w == se :\n",
        "        bag[i] = 1\n",
        "\n",
        "  return numpy.array(bag)\n",
        "\n",
        "def chat() :\n",
        "  print(\"start talking with the bot! \\n\")\n",
        "  print(\"type quit to stop\")\n",
        "  while True :\n",
        "    inp = input(\"You : \")\n",
        "    if inp.lower() == \"quit\" :\n",
        "      break\n",
        "    result =  np.argmax(model.predict([bag_of_words(inp, words)]))\n",
        "    tag = labels[result]\n",
        "    \n",
        "\n",
        "    for tg in data[\"intents\"] :\n",
        "      if tg['tag'] == tag :\n",
        "        responses = tg['responses']\n",
        "\n",
        "    print(random.choice(responses))"
      ],
      "execution_count": 0,
      "outputs": []
    },
    {
      "cell_type": "code",
      "metadata": {
        "id": "Pqo7YqEHAZ3U",
        "colab_type": "code",
        "colab": {
          "base_uri": "https://localhost:8080/",
          "height": 279
        },
        "outputId": "fc80db83-5f29-46c5-defc-cc748282b51c"
      },
      "source": [
        "chat()"
      ],
      "execution_count": 79,
      "outputs": [
        {
          "output_type": "stream",
          "text": [
            "start talking with the bot! \n",
            "\n",
            "type quit to stop\n",
            "You : cya\n",
            "Goodbye!\n",
            "You : hi\n",
            "Good to see you again!\n",
            "You : hello\n",
            "Good to see you again!\n",
            "You : good bye\n",
            "Good to see you again!\n",
            "You : sell\n",
            "Hi there, how can I help?\n",
            "You : quit\n"
          ],
          "name": "stdout"
        }
      ]
    },
    {
      "cell_type": "code",
      "metadata": {
        "id": "bVAC2bzhAdwA",
        "colab_type": "code",
        "colab": {}
      },
      "source": [
        ""
      ],
      "execution_count": 0,
      "outputs": []
    }
  ]
}